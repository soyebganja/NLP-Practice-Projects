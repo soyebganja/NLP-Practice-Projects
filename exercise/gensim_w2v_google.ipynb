{
  "nbformat": 4,
  "nbformat_minor": 0,
  "metadata": {
    "colab": {
      "provenance": [],
      "authorship_tag": "ABX9TyMueLPWStjlXTIq0y7LOlaQ",
      "include_colab_link": true
    },
    "kernelspec": {
      "name": "python3",
      "display_name": "Python 3"
    },
    "language_info": {
      "name": "python"
    }
  },
  "cells": [
    {
      "cell_type": "markdown",
      "metadata": {
        "id": "view-in-github",
        "colab_type": "text"
      },
      "source": [
        "<a href=\"https://colab.research.google.com/github/soyebganja/NLP-Practice-Projects/blob/main/exercise/gensim_w2v_google.ipynb\" target=\"_parent\"><img src=\"https://colab.research.google.com/assets/colab-badge.svg\" alt=\"Open In Colab\"/></a>"
      ]
    },
    {
      "cell_type": "code",
      "source": [
        "!pip install numpy==1.23.5\n",
        "!pip install scipy==1.10.1"
      ],
      "metadata": {
        "colab": {
          "base_uri": "https://localhost:8080/"
        },
        "id": "9n4aa7ZqsDtJ",
        "outputId": "544fe990-ca31-4047-888a-2c0bdaa14a3f"
      },
      "execution_count": 1,
      "outputs": [
        {
          "output_type": "stream",
          "name": "stdout",
          "text": [
            "Requirement already satisfied: numpy==1.23.5 in /usr/local/lib/python3.11/dist-packages (1.23.5)\n",
            "Collecting scipy==1.10.1\n",
            "  Using cached scipy-1.10.1-cp311-cp311-manylinux_2_17_x86_64.manylinux2014_x86_64.whl.metadata (58 kB)\n",
            "Requirement already satisfied: numpy<1.27.0,>=1.19.5 in /usr/local/lib/python3.11/dist-packages (from scipy==1.10.1) (1.23.5)\n",
            "Using cached scipy-1.10.1-cp311-cp311-manylinux_2_17_x86_64.manylinux2014_x86_64.whl (34.1 MB)\n",
            "Installing collected packages: scipy\n",
            "  Attempting uninstall: scipy\n",
            "    Found existing installation: scipy 1.13.1\n",
            "    Uninstalling scipy-1.13.1:\n",
            "      Successfully uninstalled scipy-1.13.1\n",
            "\u001b[31mERROR: pip's dependency resolver does not currently take into account all the packages that are installed. This behaviour is the source of the following dependency conflicts.\n",
            "cvxpy 1.6.5 requires scipy>=1.11.0, but you have scipy 1.10.1 which is incompatible.\n",
            "jaxlib 0.5.1 requires numpy>=1.25, but you have numpy 1.23.5 which is incompatible.\n",
            "jaxlib 0.5.1 requires scipy>=1.11.1, but you have scipy 1.10.1 which is incompatible.\n",
            "jax 0.5.2 requires numpy>=1.25, but you have numpy 1.23.5 which is incompatible.\n",
            "jax 0.5.2 requires scipy>=1.11.1, but you have scipy 1.10.1 which is incompatible.\n",
            "chex 0.1.89 requires numpy>=1.24.1, but you have numpy 1.23.5 which is incompatible.\n",
            "scikit-image 0.25.2 requires numpy>=1.24, but you have numpy 1.23.5 which is incompatible.\n",
            "scikit-image 0.25.2 requires scipy>=1.11.4, but you have scipy 1.10.1 which is incompatible.\n",
            "pymc 5.22.0 requires numpy>=1.25.0, but you have numpy 1.23.5 which is incompatible.\n",
            "imbalanced-learn 0.13.0 requires numpy<3,>=1.24.3, but you have numpy 1.23.5 which is incompatible.\n",
            "albumentations 2.0.6 requires numpy>=1.24.4, but you have numpy 1.23.5 which is incompatible.\n",
            "tsfresh 0.21.0 requires scipy>=1.14.0; python_version >= \"3.10\", but you have scipy 1.10.1 which is incompatible.\u001b[0m\u001b[31m\n",
            "\u001b[0mSuccessfully installed scipy-1.10.1\n"
          ]
        }
      ]
    },
    {
      "cell_type": "code",
      "source": [
        "import gensim\n",
        "print(gensim.__version__)\n"
      ],
      "metadata": {
        "colab": {
          "base_uri": "https://localhost:8080/"
        },
        "id": "vhLkiRgosWTu",
        "outputId": "d27aee4d-ea0c-4669-d4b6-952e74a7fc89"
      },
      "execution_count": 2,
      "outputs": [
        {
          "output_type": "stream",
          "name": "stdout",
          "text": [
            "4.3.3\n"
          ]
        }
      ]
    },
    {
      "cell_type": "code",
      "execution_count": 4,
      "metadata": {
        "colab": {
          "base_uri": "https://localhost:8080/"
        },
        "id": "9WMt4wJZr4aH",
        "outputId": "b692af54-cd51-4305-bed5-b70b1838d87c"
      },
      "outputs": [
        {
          "output_type": "stream",
          "name": "stdout",
          "text": [
            "[==================================================] 100.0% 1662.8/1662.8MB downloaded\n"
          ]
        }
      ],
      "source": [
        "import gensim.downloader as api\n",
        "\n",
        "wv = api.load('word2vec-google-news-300')"
      ]
    },
    {
      "cell_type": "code",
      "source": [
        "wv.similarity(w1=\"great\", w2=\"good\")"
      ],
      "metadata": {
        "colab": {
          "base_uri": "https://localhost:8080/"
        },
        "id": "lwemiUu6r8bD",
        "outputId": "b4edd286-6723-4ea5-b046-e78ea30709f0"
      },
      "execution_count": 5,
      "outputs": [
        {
          "output_type": "execute_result",
          "data": {
            "text/plain": [
              "0.729151"
            ]
          },
          "metadata": {},
          "execution_count": 5
        }
      ]
    },
    {
      "cell_type": "code",
      "source": [
        "wv_great = wv[\"great\"]\n",
        "wv_good = wv[\"good\"]"
      ],
      "metadata": {
        "id": "9u9MsygbuV9C"
      },
      "execution_count": 6,
      "outputs": []
    },
    {
      "cell_type": "code",
      "source": [
        "wv_good.shape, wv_great.shape"
      ],
      "metadata": {
        "colab": {
          "base_uri": "https://localhost:8080/"
        },
        "id": "N_DCER1tua_V",
        "outputId": "f7e41c81-44f5-4a13-a32d-1592163226e9"
      },
      "execution_count": 7,
      "outputs": [
        {
          "output_type": "execute_result",
          "data": {
            "text/plain": [
              "((300,), (300,))"
            ]
          },
          "metadata": {},
          "execution_count": 7
        }
      ]
    },
    {
      "cell_type": "code",
      "source": [
        "import pandas as pd\n",
        "\n",
        "df = pd.read_csv(\"Fake_Real_Data.csv\")\n",
        "df.head()"
      ],
      "metadata": {
        "colab": {
          "base_uri": "https://localhost:8080/",
          "height": 206
        },
        "id": "t0L5FnQtufZC",
        "outputId": "bf2d2840-5ae8-4517-a64f-54a23747e135"
      },
      "execution_count": 9,
      "outputs": [
        {
          "output_type": "execute_result",
          "data": {
            "text/plain": [
              "                                                Text label\n",
              "0   Top Trump Surrogate BRUTALLY Stabs Him In The...  Fake\n",
              "1  U.S. conservative leader optimistic of common ...  Real\n",
              "2  Trump proposes U.S. tax overhaul, stirs concer...  Real\n",
              "3   Court Forces Ohio To Allow Millions Of Illega...  Fake\n",
              "4  Democrats say Trump agrees to work on immigrat...  Real"
            ],
            "text/html": [
              "\n",
              "  <div id=\"df-c1535dc3-9098-4175-bb83-74b77360a6b2\" class=\"colab-df-container\">\n",
              "    <div>\n",
              "<style scoped>\n",
              "    .dataframe tbody tr th:only-of-type {\n",
              "        vertical-align: middle;\n",
              "    }\n",
              "\n",
              "    .dataframe tbody tr th {\n",
              "        vertical-align: top;\n",
              "    }\n",
              "\n",
              "    .dataframe thead th {\n",
              "        text-align: right;\n",
              "    }\n",
              "</style>\n",
              "<table border=\"1\" class=\"dataframe\">\n",
              "  <thead>\n",
              "    <tr style=\"text-align: right;\">\n",
              "      <th></th>\n",
              "      <th>Text</th>\n",
              "      <th>label</th>\n",
              "    </tr>\n",
              "  </thead>\n",
              "  <tbody>\n",
              "    <tr>\n",
              "      <th>0</th>\n",
              "      <td>Top Trump Surrogate BRUTALLY Stabs Him In The...</td>\n",
              "      <td>Fake</td>\n",
              "    </tr>\n",
              "    <tr>\n",
              "      <th>1</th>\n",
              "      <td>U.S. conservative leader optimistic of common ...</td>\n",
              "      <td>Real</td>\n",
              "    </tr>\n",
              "    <tr>\n",
              "      <th>2</th>\n",
              "      <td>Trump proposes U.S. tax overhaul, stirs concer...</td>\n",
              "      <td>Real</td>\n",
              "    </tr>\n",
              "    <tr>\n",
              "      <th>3</th>\n",
              "      <td>Court Forces Ohio To Allow Millions Of Illega...</td>\n",
              "      <td>Fake</td>\n",
              "    </tr>\n",
              "    <tr>\n",
              "      <th>4</th>\n",
              "      <td>Democrats say Trump agrees to work on immigrat...</td>\n",
              "      <td>Real</td>\n",
              "    </tr>\n",
              "  </tbody>\n",
              "</table>\n",
              "</div>\n",
              "    <div class=\"colab-df-buttons\">\n",
              "\n",
              "  <div class=\"colab-df-container\">\n",
              "    <button class=\"colab-df-convert\" onclick=\"convertToInteractive('df-c1535dc3-9098-4175-bb83-74b77360a6b2')\"\n",
              "            title=\"Convert this dataframe to an interactive table.\"\n",
              "            style=\"display:none;\">\n",
              "\n",
              "  <svg xmlns=\"http://www.w3.org/2000/svg\" height=\"24px\" viewBox=\"0 -960 960 960\">\n",
              "    <path d=\"M120-120v-720h720v720H120Zm60-500h600v-160H180v160Zm220 220h160v-160H400v160Zm0 220h160v-160H400v160ZM180-400h160v-160H180v160Zm440 0h160v-160H620v160ZM180-180h160v-160H180v160Zm440 0h160v-160H620v160Z\"/>\n",
              "  </svg>\n",
              "    </button>\n",
              "\n",
              "  <style>\n",
              "    .colab-df-container {\n",
              "      display:flex;\n",
              "      gap: 12px;\n",
              "    }\n",
              "\n",
              "    .colab-df-convert {\n",
              "      background-color: #E8F0FE;\n",
              "      border: none;\n",
              "      border-radius: 50%;\n",
              "      cursor: pointer;\n",
              "      display: none;\n",
              "      fill: #1967D2;\n",
              "      height: 32px;\n",
              "      padding: 0 0 0 0;\n",
              "      width: 32px;\n",
              "    }\n",
              "\n",
              "    .colab-df-convert:hover {\n",
              "      background-color: #E2EBFA;\n",
              "      box-shadow: 0px 1px 2px rgba(60, 64, 67, 0.3), 0px 1px 3px 1px rgba(60, 64, 67, 0.15);\n",
              "      fill: #174EA6;\n",
              "    }\n",
              "\n",
              "    .colab-df-buttons div {\n",
              "      margin-bottom: 4px;\n",
              "    }\n",
              "\n",
              "    [theme=dark] .colab-df-convert {\n",
              "      background-color: #3B4455;\n",
              "      fill: #D2E3FC;\n",
              "    }\n",
              "\n",
              "    [theme=dark] .colab-df-convert:hover {\n",
              "      background-color: #434B5C;\n",
              "      box-shadow: 0px 1px 3px 1px rgba(0, 0, 0, 0.15);\n",
              "      filter: drop-shadow(0px 1px 2px rgba(0, 0, 0, 0.3));\n",
              "      fill: #FFFFFF;\n",
              "    }\n",
              "  </style>\n",
              "\n",
              "    <script>\n",
              "      const buttonEl =\n",
              "        document.querySelector('#df-c1535dc3-9098-4175-bb83-74b77360a6b2 button.colab-df-convert');\n",
              "      buttonEl.style.display =\n",
              "        google.colab.kernel.accessAllowed ? 'block' : 'none';\n",
              "\n",
              "      async function convertToInteractive(key) {\n",
              "        const element = document.querySelector('#df-c1535dc3-9098-4175-bb83-74b77360a6b2');\n",
              "        const dataTable =\n",
              "          await google.colab.kernel.invokeFunction('convertToInteractive',\n",
              "                                                    [key], {});\n",
              "        if (!dataTable) return;\n",
              "\n",
              "        const docLinkHtml = 'Like what you see? Visit the ' +\n",
              "          '<a target=\"_blank\" href=https://colab.research.google.com/notebooks/data_table.ipynb>data table notebook</a>'\n",
              "          + ' to learn more about interactive tables.';\n",
              "        element.innerHTML = '';\n",
              "        dataTable['output_type'] = 'display_data';\n",
              "        await google.colab.output.renderOutput(dataTable, element);\n",
              "        const docLink = document.createElement('div');\n",
              "        docLink.innerHTML = docLinkHtml;\n",
              "        element.appendChild(docLink);\n",
              "      }\n",
              "    </script>\n",
              "  </div>\n",
              "\n",
              "\n",
              "    <div id=\"df-ed750492-4805-4723-b616-65c173e534d4\">\n",
              "      <button class=\"colab-df-quickchart\" onclick=\"quickchart('df-ed750492-4805-4723-b616-65c173e534d4')\"\n",
              "                title=\"Suggest charts\"\n",
              "                style=\"display:none;\">\n",
              "\n",
              "<svg xmlns=\"http://www.w3.org/2000/svg\" height=\"24px\"viewBox=\"0 0 24 24\"\n",
              "     width=\"24px\">\n",
              "    <g>\n",
              "        <path d=\"M19 3H5c-1.1 0-2 .9-2 2v14c0 1.1.9 2 2 2h14c1.1 0 2-.9 2-2V5c0-1.1-.9-2-2-2zM9 17H7v-7h2v7zm4 0h-2V7h2v10zm4 0h-2v-4h2v4z\"/>\n",
              "    </g>\n",
              "</svg>\n",
              "      </button>\n",
              "\n",
              "<style>\n",
              "  .colab-df-quickchart {\n",
              "      --bg-color: #E8F0FE;\n",
              "      --fill-color: #1967D2;\n",
              "      --hover-bg-color: #E2EBFA;\n",
              "      --hover-fill-color: #174EA6;\n",
              "      --disabled-fill-color: #AAA;\n",
              "      --disabled-bg-color: #DDD;\n",
              "  }\n",
              "\n",
              "  [theme=dark] .colab-df-quickchart {\n",
              "      --bg-color: #3B4455;\n",
              "      --fill-color: #D2E3FC;\n",
              "      --hover-bg-color: #434B5C;\n",
              "      --hover-fill-color: #FFFFFF;\n",
              "      --disabled-bg-color: #3B4455;\n",
              "      --disabled-fill-color: #666;\n",
              "  }\n",
              "\n",
              "  .colab-df-quickchart {\n",
              "    background-color: var(--bg-color);\n",
              "    border: none;\n",
              "    border-radius: 50%;\n",
              "    cursor: pointer;\n",
              "    display: none;\n",
              "    fill: var(--fill-color);\n",
              "    height: 32px;\n",
              "    padding: 0;\n",
              "    width: 32px;\n",
              "  }\n",
              "\n",
              "  .colab-df-quickchart:hover {\n",
              "    background-color: var(--hover-bg-color);\n",
              "    box-shadow: 0 1px 2px rgba(60, 64, 67, 0.3), 0 1px 3px 1px rgba(60, 64, 67, 0.15);\n",
              "    fill: var(--button-hover-fill-color);\n",
              "  }\n",
              "\n",
              "  .colab-df-quickchart-complete:disabled,\n",
              "  .colab-df-quickchart-complete:disabled:hover {\n",
              "    background-color: var(--disabled-bg-color);\n",
              "    fill: var(--disabled-fill-color);\n",
              "    box-shadow: none;\n",
              "  }\n",
              "\n",
              "  .colab-df-spinner {\n",
              "    border: 2px solid var(--fill-color);\n",
              "    border-color: transparent;\n",
              "    border-bottom-color: var(--fill-color);\n",
              "    animation:\n",
              "      spin 1s steps(1) infinite;\n",
              "  }\n",
              "\n",
              "  @keyframes spin {\n",
              "    0% {\n",
              "      border-color: transparent;\n",
              "      border-bottom-color: var(--fill-color);\n",
              "      border-left-color: var(--fill-color);\n",
              "    }\n",
              "    20% {\n",
              "      border-color: transparent;\n",
              "      border-left-color: var(--fill-color);\n",
              "      border-top-color: var(--fill-color);\n",
              "    }\n",
              "    30% {\n",
              "      border-color: transparent;\n",
              "      border-left-color: var(--fill-color);\n",
              "      border-top-color: var(--fill-color);\n",
              "      border-right-color: var(--fill-color);\n",
              "    }\n",
              "    40% {\n",
              "      border-color: transparent;\n",
              "      border-right-color: var(--fill-color);\n",
              "      border-top-color: var(--fill-color);\n",
              "    }\n",
              "    60% {\n",
              "      border-color: transparent;\n",
              "      border-right-color: var(--fill-color);\n",
              "    }\n",
              "    80% {\n",
              "      border-color: transparent;\n",
              "      border-right-color: var(--fill-color);\n",
              "      border-bottom-color: var(--fill-color);\n",
              "    }\n",
              "    90% {\n",
              "      border-color: transparent;\n",
              "      border-bottom-color: var(--fill-color);\n",
              "    }\n",
              "  }\n",
              "</style>\n",
              "\n",
              "      <script>\n",
              "        async function quickchart(key) {\n",
              "          const quickchartButtonEl =\n",
              "            document.querySelector('#' + key + ' button');\n",
              "          quickchartButtonEl.disabled = true;  // To prevent multiple clicks.\n",
              "          quickchartButtonEl.classList.add('colab-df-spinner');\n",
              "          try {\n",
              "            const charts = await google.colab.kernel.invokeFunction(\n",
              "                'suggestCharts', [key], {});\n",
              "          } catch (error) {\n",
              "            console.error('Error during call to suggestCharts:', error);\n",
              "          }\n",
              "          quickchartButtonEl.classList.remove('colab-df-spinner');\n",
              "          quickchartButtonEl.classList.add('colab-df-quickchart-complete');\n",
              "        }\n",
              "        (() => {\n",
              "          let quickchartButtonEl =\n",
              "            document.querySelector('#df-ed750492-4805-4723-b616-65c173e534d4 button');\n",
              "          quickchartButtonEl.style.display =\n",
              "            google.colab.kernel.accessAllowed ? 'block' : 'none';\n",
              "        })();\n",
              "      </script>\n",
              "    </div>\n",
              "\n",
              "    </div>\n",
              "  </div>\n"
            ],
            "application/vnd.google.colaboratory.intrinsic+json": {
              "type": "dataframe",
              "variable_name": "df",
              "summary": "{\n  \"name\": \"df\",\n  \"rows\": 9900,\n  \"fields\": [\n    {\n      \"column\": \"Text\",\n      \"properties\": {\n        \"dtype\": \"string\",\n        \"num_unique_values\": 9865,\n        \"samples\": [\n          \" ICYMI: SNL Skewers \\u201cMorning Joe\\u201d And It Is Hilarious This week s cold open for Saturday Night Live featured a parody of the morning show, Morning Joe. The sketch featured Alex Moffat as host Joe Scarborough and Kate McKinnon as Mika Mika Brzezinski. The sketch also has Alec Baldwin as President Donald Trump, who calls into the show as  John Miller,  a spokesperson for the White House. Back in the day, Trump was known for calling reporters all over the New York area pretending to be his own publicist. He would call, not to tout his business successes but to brag about his sex life.The sketch also made fun of the relationship between the hosts. The pair got engaged recently when they were celebrating Mika s 50th birthday. The sketch shows the response from the other panelists on the show, Mark Halperin, Willie Geist and Mike Barnacle, who all have no idea how to respond to Joe and Mika s behavior on the set.Featured image via Frederick M. Brown/Getty Images.\",\n          \" BOMBSHELL: Information Suggests Trump Associates DID Collude With Russia, According To Officials Wednesday was not a good day to be Donald Trump. In the aftermath of the disastrous Comey hearing where it was confirmed that The Donald s team was indeed being investigated   and of Rep. Nunes  decision to skip informing his fellow congressional Russia investigators of perfectly legal  incidental collection  of information about Trump associates and possibly the President* himself and run to The Donald with it instead   Trump has been flailing, attempting to distract from the whole Russia thing as much as possible.That s going to be very hard now, as U.S. officials have now confirmed that the facts suggest that members of his team were indeed working with the enemy. CNN reports:The FBI has information that indicates associates of President Donald Trump communicated with suspected Russian operatives to possibly coordinate the release of information damaging to Hillary Clinton s campaign, US officials told CNN.\",\n          \" Vladimir Putin Just Defended Trump In The WORST Way Possible (VIDEO) According to Russian dictator Vladimir Putin, it s silly to worry about little things like whether or not a couple of Russian ladies peed on Donald Trump s bed because it s much, much worse to publish memos that reveal these allegations.Putin says that there is a conspiracy to  delegitimize  the man and his team of hackers, fake news writers, and trolls he worked hard to install in the Oval Office by hacking Trump s political opponents and running an aggressive propaganda campaign. I don t know Mr. Trump, I have never met him, I don t know what he will do in the international arena, so I have no reason either to attack him, criticize him or defend him, Putin said at a press conference. Donald Trump has been with the most beautiful women in the world, so why would he need prostitutes in Moscow? To answer that question, we need only look to a 2001 edition of the Howard Stern Show in which Trump was reminded that he bragged that he likes to go to Russia to have sex with women because they  have no morals. Putin says that Russian security services  do not chase every US billionaire,  and that the release of the documents was worse than prostitutes. In a way, he s right, as the documents presented to both Trump and President Obama also allege that members of the President-elect s campaign staff directly worked with the Russian government during the campaign.On numerous occasions, Trump has repeated Russian propaganda while attacking U.S. intelligence agencies that have been exposing him for what he is and, of course, has directly quoted Putin (a man whom Trump says is  very smart ) while hurling barbs at Hillary Clinton.Trump and Putin have been screaming about the  fake news  release of actual documents that actual intelligence agencies are in possession of, but the BBC reported recently that the whole pissing Russian ladies thing is just the tip of the iceberg. Correspondent Paul Wood revealed last week that at least four sources have confirmed the information, with one U.S. intelligence source informing him that there is audio and video of The Donald s escapades, and an Israeli news source reports that the country s spies have been warned against sharing information with the United States for fear that Trump will relay it to Putin.Putin and Trump s bromance is disconcerting at best   especially when more than a baker s dozen intelligence agencies have confirmed that the man who stood up to join Trump in his attacks on our intelligence agencies has been confirmed to have interfered in our election.Watch it below:Featured image via Getty Images\"\n        ],\n        \"semantic_type\": \"\",\n        \"description\": \"\"\n      }\n    },\n    {\n      \"column\": \"label\",\n      \"properties\": {\n        \"dtype\": \"category\",\n        \"num_unique_values\": 2,\n        \"samples\": [\n          \"Real\",\n          \"Fake\"\n        ],\n        \"semantic_type\": \"\",\n        \"description\": \"\"\n      }\n    }\n  ]\n}"
            }
          },
          "metadata": {},
          "execution_count": 9
        }
      ]
    },
    {
      "cell_type": "code",
      "source": [
        "df.label.value_counts()"
      ],
      "metadata": {
        "colab": {
          "base_uri": "https://localhost:8080/",
          "height": 178
        },
        "id": "FgkDpFzQuz_R",
        "outputId": "8e87063c-343e-4f08-83e1-013c3b969a0b"
      },
      "execution_count": 10,
      "outputs": [
        {
          "output_type": "execute_result",
          "data": {
            "text/plain": [
              "label\n",
              "Fake    5000\n",
              "Real    4900\n",
              "Name: count, dtype: int64"
            ],
            "text/html": [
              "<div>\n",
              "<style scoped>\n",
              "    .dataframe tbody tr th:only-of-type {\n",
              "        vertical-align: middle;\n",
              "    }\n",
              "\n",
              "    .dataframe tbody tr th {\n",
              "        vertical-align: top;\n",
              "    }\n",
              "\n",
              "    .dataframe thead th {\n",
              "        text-align: right;\n",
              "    }\n",
              "</style>\n",
              "<table border=\"1\" class=\"dataframe\">\n",
              "  <thead>\n",
              "    <tr style=\"text-align: right;\">\n",
              "      <th></th>\n",
              "      <th>count</th>\n",
              "    </tr>\n",
              "    <tr>\n",
              "      <th>label</th>\n",
              "      <th></th>\n",
              "    </tr>\n",
              "  </thead>\n",
              "  <tbody>\n",
              "    <tr>\n",
              "      <th>Fake</th>\n",
              "      <td>5000</td>\n",
              "    </tr>\n",
              "    <tr>\n",
              "      <th>Real</th>\n",
              "      <td>4900</td>\n",
              "    </tr>\n",
              "  </tbody>\n",
              "</table>\n",
              "</div><br><label><b>dtype:</b> int64</label>"
            ]
          },
          "metadata": {},
          "execution_count": 10
        }
      ]
    },
    {
      "cell_type": "code",
      "source": [
        "df['label_num'] = df.label.map({'Fake':0, 'Real':1})\n",
        "df.head()"
      ],
      "metadata": {
        "colab": {
          "base_uri": "https://localhost:8080/",
          "height": 206
        },
        "id": "CZMuKklYvRPT",
        "outputId": "c721c069-2ad4-4d44-a37f-db1a31eb71dd"
      },
      "execution_count": 11,
      "outputs": [
        {
          "output_type": "execute_result",
          "data": {
            "text/plain": [
              "                                                Text label  label_num\n",
              "0   Top Trump Surrogate BRUTALLY Stabs Him In The...  Fake          0\n",
              "1  U.S. conservative leader optimistic of common ...  Real          1\n",
              "2  Trump proposes U.S. tax overhaul, stirs concer...  Real          1\n",
              "3   Court Forces Ohio To Allow Millions Of Illega...  Fake          0\n",
              "4  Democrats say Trump agrees to work on immigrat...  Real          1"
            ],
            "text/html": [
              "\n",
              "  <div id=\"df-1a018a89-b287-4004-9033-3a8995c6f334\" class=\"colab-df-container\">\n",
              "    <div>\n",
              "<style scoped>\n",
              "    .dataframe tbody tr th:only-of-type {\n",
              "        vertical-align: middle;\n",
              "    }\n",
              "\n",
              "    .dataframe tbody tr th {\n",
              "        vertical-align: top;\n",
              "    }\n",
              "\n",
              "    .dataframe thead th {\n",
              "        text-align: right;\n",
              "    }\n",
              "</style>\n",
              "<table border=\"1\" class=\"dataframe\">\n",
              "  <thead>\n",
              "    <tr style=\"text-align: right;\">\n",
              "      <th></th>\n",
              "      <th>Text</th>\n",
              "      <th>label</th>\n",
              "      <th>label_num</th>\n",
              "    </tr>\n",
              "  </thead>\n",
              "  <tbody>\n",
              "    <tr>\n",
              "      <th>0</th>\n",
              "      <td>Top Trump Surrogate BRUTALLY Stabs Him In The...</td>\n",
              "      <td>Fake</td>\n",
              "      <td>0</td>\n",
              "    </tr>\n",
              "    <tr>\n",
              "      <th>1</th>\n",
              "      <td>U.S. conservative leader optimistic of common ...</td>\n",
              "      <td>Real</td>\n",
              "      <td>1</td>\n",
              "    </tr>\n",
              "    <tr>\n",
              "      <th>2</th>\n",
              "      <td>Trump proposes U.S. tax overhaul, stirs concer...</td>\n",
              "      <td>Real</td>\n",
              "      <td>1</td>\n",
              "    </tr>\n",
              "    <tr>\n",
              "      <th>3</th>\n",
              "      <td>Court Forces Ohio To Allow Millions Of Illega...</td>\n",
              "      <td>Fake</td>\n",
              "      <td>0</td>\n",
              "    </tr>\n",
              "    <tr>\n",
              "      <th>4</th>\n",
              "      <td>Democrats say Trump agrees to work on immigrat...</td>\n",
              "      <td>Real</td>\n",
              "      <td>1</td>\n",
              "    </tr>\n",
              "  </tbody>\n",
              "</table>\n",
              "</div>\n",
              "    <div class=\"colab-df-buttons\">\n",
              "\n",
              "  <div class=\"colab-df-container\">\n",
              "    <button class=\"colab-df-convert\" onclick=\"convertToInteractive('df-1a018a89-b287-4004-9033-3a8995c6f334')\"\n",
              "            title=\"Convert this dataframe to an interactive table.\"\n",
              "            style=\"display:none;\">\n",
              "\n",
              "  <svg xmlns=\"http://www.w3.org/2000/svg\" height=\"24px\" viewBox=\"0 -960 960 960\">\n",
              "    <path d=\"M120-120v-720h720v720H120Zm60-500h600v-160H180v160Zm220 220h160v-160H400v160Zm0 220h160v-160H400v160ZM180-400h160v-160H180v160Zm440 0h160v-160H620v160ZM180-180h160v-160H180v160Zm440 0h160v-160H620v160Z\"/>\n",
              "  </svg>\n",
              "    </button>\n",
              "\n",
              "  <style>\n",
              "    .colab-df-container {\n",
              "      display:flex;\n",
              "      gap: 12px;\n",
              "    }\n",
              "\n",
              "    .colab-df-convert {\n",
              "      background-color: #E8F0FE;\n",
              "      border: none;\n",
              "      border-radius: 50%;\n",
              "      cursor: pointer;\n",
              "      display: none;\n",
              "      fill: #1967D2;\n",
              "      height: 32px;\n",
              "      padding: 0 0 0 0;\n",
              "      width: 32px;\n",
              "    }\n",
              "\n",
              "    .colab-df-convert:hover {\n",
              "      background-color: #E2EBFA;\n",
              "      box-shadow: 0px 1px 2px rgba(60, 64, 67, 0.3), 0px 1px 3px 1px rgba(60, 64, 67, 0.15);\n",
              "      fill: #174EA6;\n",
              "    }\n",
              "\n",
              "    .colab-df-buttons div {\n",
              "      margin-bottom: 4px;\n",
              "    }\n",
              "\n",
              "    [theme=dark] .colab-df-convert {\n",
              "      background-color: #3B4455;\n",
              "      fill: #D2E3FC;\n",
              "    }\n",
              "\n",
              "    [theme=dark] .colab-df-convert:hover {\n",
              "      background-color: #434B5C;\n",
              "      box-shadow: 0px 1px 3px 1px rgba(0, 0, 0, 0.15);\n",
              "      filter: drop-shadow(0px 1px 2px rgba(0, 0, 0, 0.3));\n",
              "      fill: #FFFFFF;\n",
              "    }\n",
              "  </style>\n",
              "\n",
              "    <script>\n",
              "      const buttonEl =\n",
              "        document.querySelector('#df-1a018a89-b287-4004-9033-3a8995c6f334 button.colab-df-convert');\n",
              "      buttonEl.style.display =\n",
              "        google.colab.kernel.accessAllowed ? 'block' : 'none';\n",
              "\n",
              "      async function convertToInteractive(key) {\n",
              "        const element = document.querySelector('#df-1a018a89-b287-4004-9033-3a8995c6f334');\n",
              "        const dataTable =\n",
              "          await google.colab.kernel.invokeFunction('convertToInteractive',\n",
              "                                                    [key], {});\n",
              "        if (!dataTable) return;\n",
              "\n",
              "        const docLinkHtml = 'Like what you see? Visit the ' +\n",
              "          '<a target=\"_blank\" href=https://colab.research.google.com/notebooks/data_table.ipynb>data table notebook</a>'\n",
              "          + ' to learn more about interactive tables.';\n",
              "        element.innerHTML = '';\n",
              "        dataTable['output_type'] = 'display_data';\n",
              "        await google.colab.output.renderOutput(dataTable, element);\n",
              "        const docLink = document.createElement('div');\n",
              "        docLink.innerHTML = docLinkHtml;\n",
              "        element.appendChild(docLink);\n",
              "      }\n",
              "    </script>\n",
              "  </div>\n",
              "\n",
              "\n",
              "    <div id=\"df-6a3e74e3-2421-4416-b0bc-bd87fb5e08ea\">\n",
              "      <button class=\"colab-df-quickchart\" onclick=\"quickchart('df-6a3e74e3-2421-4416-b0bc-bd87fb5e08ea')\"\n",
              "                title=\"Suggest charts\"\n",
              "                style=\"display:none;\">\n",
              "\n",
              "<svg xmlns=\"http://www.w3.org/2000/svg\" height=\"24px\"viewBox=\"0 0 24 24\"\n",
              "     width=\"24px\">\n",
              "    <g>\n",
              "        <path d=\"M19 3H5c-1.1 0-2 .9-2 2v14c0 1.1.9 2 2 2h14c1.1 0 2-.9 2-2V5c0-1.1-.9-2-2-2zM9 17H7v-7h2v7zm4 0h-2V7h2v10zm4 0h-2v-4h2v4z\"/>\n",
              "    </g>\n",
              "</svg>\n",
              "      </button>\n",
              "\n",
              "<style>\n",
              "  .colab-df-quickchart {\n",
              "      --bg-color: #E8F0FE;\n",
              "      --fill-color: #1967D2;\n",
              "      --hover-bg-color: #E2EBFA;\n",
              "      --hover-fill-color: #174EA6;\n",
              "      --disabled-fill-color: #AAA;\n",
              "      --disabled-bg-color: #DDD;\n",
              "  }\n",
              "\n",
              "  [theme=dark] .colab-df-quickchart {\n",
              "      --bg-color: #3B4455;\n",
              "      --fill-color: #D2E3FC;\n",
              "      --hover-bg-color: #434B5C;\n",
              "      --hover-fill-color: #FFFFFF;\n",
              "      --disabled-bg-color: #3B4455;\n",
              "      --disabled-fill-color: #666;\n",
              "  }\n",
              "\n",
              "  .colab-df-quickchart {\n",
              "    background-color: var(--bg-color);\n",
              "    border: none;\n",
              "    border-radius: 50%;\n",
              "    cursor: pointer;\n",
              "    display: none;\n",
              "    fill: var(--fill-color);\n",
              "    height: 32px;\n",
              "    padding: 0;\n",
              "    width: 32px;\n",
              "  }\n",
              "\n",
              "  .colab-df-quickchart:hover {\n",
              "    background-color: var(--hover-bg-color);\n",
              "    box-shadow: 0 1px 2px rgba(60, 64, 67, 0.3), 0 1px 3px 1px rgba(60, 64, 67, 0.15);\n",
              "    fill: var(--button-hover-fill-color);\n",
              "  }\n",
              "\n",
              "  .colab-df-quickchart-complete:disabled,\n",
              "  .colab-df-quickchart-complete:disabled:hover {\n",
              "    background-color: var(--disabled-bg-color);\n",
              "    fill: var(--disabled-fill-color);\n",
              "    box-shadow: none;\n",
              "  }\n",
              "\n",
              "  .colab-df-spinner {\n",
              "    border: 2px solid var(--fill-color);\n",
              "    border-color: transparent;\n",
              "    border-bottom-color: var(--fill-color);\n",
              "    animation:\n",
              "      spin 1s steps(1) infinite;\n",
              "  }\n",
              "\n",
              "  @keyframes spin {\n",
              "    0% {\n",
              "      border-color: transparent;\n",
              "      border-bottom-color: var(--fill-color);\n",
              "      border-left-color: var(--fill-color);\n",
              "    }\n",
              "    20% {\n",
              "      border-color: transparent;\n",
              "      border-left-color: var(--fill-color);\n",
              "      border-top-color: var(--fill-color);\n",
              "    }\n",
              "    30% {\n",
              "      border-color: transparent;\n",
              "      border-left-color: var(--fill-color);\n",
              "      border-top-color: var(--fill-color);\n",
              "      border-right-color: var(--fill-color);\n",
              "    }\n",
              "    40% {\n",
              "      border-color: transparent;\n",
              "      border-right-color: var(--fill-color);\n",
              "      border-top-color: var(--fill-color);\n",
              "    }\n",
              "    60% {\n",
              "      border-color: transparent;\n",
              "      border-right-color: var(--fill-color);\n",
              "    }\n",
              "    80% {\n",
              "      border-color: transparent;\n",
              "      border-right-color: var(--fill-color);\n",
              "      border-bottom-color: var(--fill-color);\n",
              "    }\n",
              "    90% {\n",
              "      border-color: transparent;\n",
              "      border-bottom-color: var(--fill-color);\n",
              "    }\n",
              "  }\n",
              "</style>\n",
              "\n",
              "      <script>\n",
              "        async function quickchart(key) {\n",
              "          const quickchartButtonEl =\n",
              "            document.querySelector('#' + key + ' button');\n",
              "          quickchartButtonEl.disabled = true;  // To prevent multiple clicks.\n",
              "          quickchartButtonEl.classList.add('colab-df-spinner');\n",
              "          try {\n",
              "            const charts = await google.colab.kernel.invokeFunction(\n",
              "                'suggestCharts', [key], {});\n",
              "          } catch (error) {\n",
              "            console.error('Error during call to suggestCharts:', error);\n",
              "          }\n",
              "          quickchartButtonEl.classList.remove('colab-df-spinner');\n",
              "          quickchartButtonEl.classList.add('colab-df-quickchart-complete');\n",
              "        }\n",
              "        (() => {\n",
              "          let quickchartButtonEl =\n",
              "            document.querySelector('#df-6a3e74e3-2421-4416-b0bc-bd87fb5e08ea button');\n",
              "          quickchartButtonEl.style.display =\n",
              "            google.colab.kernel.accessAllowed ? 'block' : 'none';\n",
              "        })();\n",
              "      </script>\n",
              "    </div>\n",
              "\n",
              "    </div>\n",
              "  </div>\n"
            ],
            "application/vnd.google.colaboratory.intrinsic+json": {
              "type": "dataframe",
              "variable_name": "df",
              "summary": "{\n  \"name\": \"df\",\n  \"rows\": 9900,\n  \"fields\": [\n    {\n      \"column\": \"Text\",\n      \"properties\": {\n        \"dtype\": \"string\",\n        \"num_unique_values\": 9865,\n        \"samples\": [\n          \" ICYMI: SNL Skewers \\u201cMorning Joe\\u201d And It Is Hilarious This week s cold open for Saturday Night Live featured a parody of the morning show, Morning Joe. The sketch featured Alex Moffat as host Joe Scarborough and Kate McKinnon as Mika Mika Brzezinski. The sketch also has Alec Baldwin as President Donald Trump, who calls into the show as  John Miller,  a spokesperson for the White House. Back in the day, Trump was known for calling reporters all over the New York area pretending to be his own publicist. He would call, not to tout his business successes but to brag about his sex life.The sketch also made fun of the relationship between the hosts. The pair got engaged recently when they were celebrating Mika s 50th birthday. The sketch shows the response from the other panelists on the show, Mark Halperin, Willie Geist and Mike Barnacle, who all have no idea how to respond to Joe and Mika s behavior on the set.Featured image via Frederick M. Brown/Getty Images.\",\n          \" BOMBSHELL: Information Suggests Trump Associates DID Collude With Russia, According To Officials Wednesday was not a good day to be Donald Trump. In the aftermath of the disastrous Comey hearing where it was confirmed that The Donald s team was indeed being investigated   and of Rep. Nunes  decision to skip informing his fellow congressional Russia investigators of perfectly legal  incidental collection  of information about Trump associates and possibly the President* himself and run to The Donald with it instead   Trump has been flailing, attempting to distract from the whole Russia thing as much as possible.That s going to be very hard now, as U.S. officials have now confirmed that the facts suggest that members of his team were indeed working with the enemy. CNN reports:The FBI has information that indicates associates of President Donald Trump communicated with suspected Russian operatives to possibly coordinate the release of information damaging to Hillary Clinton s campaign, US officials told CNN.\",\n          \" Vladimir Putin Just Defended Trump In The WORST Way Possible (VIDEO) According to Russian dictator Vladimir Putin, it s silly to worry about little things like whether or not a couple of Russian ladies peed on Donald Trump s bed because it s much, much worse to publish memos that reveal these allegations.Putin says that there is a conspiracy to  delegitimize  the man and his team of hackers, fake news writers, and trolls he worked hard to install in the Oval Office by hacking Trump s political opponents and running an aggressive propaganda campaign. I don t know Mr. Trump, I have never met him, I don t know what he will do in the international arena, so I have no reason either to attack him, criticize him or defend him, Putin said at a press conference. Donald Trump has been with the most beautiful women in the world, so why would he need prostitutes in Moscow? To answer that question, we need only look to a 2001 edition of the Howard Stern Show in which Trump was reminded that he bragged that he likes to go to Russia to have sex with women because they  have no morals. Putin says that Russian security services  do not chase every US billionaire,  and that the release of the documents was worse than prostitutes. In a way, he s right, as the documents presented to both Trump and President Obama also allege that members of the President-elect s campaign staff directly worked with the Russian government during the campaign.On numerous occasions, Trump has repeated Russian propaganda while attacking U.S. intelligence agencies that have been exposing him for what he is and, of course, has directly quoted Putin (a man whom Trump says is  very smart ) while hurling barbs at Hillary Clinton.Trump and Putin have been screaming about the  fake news  release of actual documents that actual intelligence agencies are in possession of, but the BBC reported recently that the whole pissing Russian ladies thing is just the tip of the iceberg. Correspondent Paul Wood revealed last week that at least four sources have confirmed the information, with one U.S. intelligence source informing him that there is audio and video of The Donald s escapades, and an Israeli news source reports that the country s spies have been warned against sharing information with the United States for fear that Trump will relay it to Putin.Putin and Trump s bromance is disconcerting at best   especially when more than a baker s dozen intelligence agencies have confirmed that the man who stood up to join Trump in his attacks on our intelligence agencies has been confirmed to have interfered in our election.Watch it below:Featured image via Getty Images\"\n        ],\n        \"semantic_type\": \"\",\n        \"description\": \"\"\n      }\n    },\n    {\n      \"column\": \"label\",\n      \"properties\": {\n        \"dtype\": \"category\",\n        \"num_unique_values\": 2,\n        \"samples\": [\n          \"Real\",\n          \"Fake\"\n        ],\n        \"semantic_type\": \"\",\n        \"description\": \"\"\n      }\n    },\n    {\n      \"column\": \"label_num\",\n      \"properties\": {\n        \"dtype\": \"number\",\n        \"std\": 0,\n        \"min\": 0,\n        \"max\": 1,\n        \"num_unique_values\": 2,\n        \"samples\": [\n          1,\n          0\n        ],\n        \"semantic_type\": \"\",\n        \"description\": \"\"\n      }\n    }\n  ]\n}"
            }
          },
          "metadata": {},
          "execution_count": 11
        }
      ]
    },
    {
      "cell_type": "code",
      "source": [
        "!python -m spacy download en_core_web_lg"
      ],
      "metadata": {
        "colab": {
          "base_uri": "https://localhost:8080/"
        },
        "id": "oGzWBlgmwMGH",
        "outputId": "df198c7a-42e2-4ad4-a67f-590f10aca45c"
      },
      "execution_count": 13,
      "outputs": [
        {
          "output_type": "stream",
          "name": "stdout",
          "text": [
            "Collecting en-core-web-lg==3.8.0\n",
            "  Downloading https://github.com/explosion/spacy-models/releases/download/en_core_web_lg-3.8.0/en_core_web_lg-3.8.0-py3-none-any.whl (400.7 MB)\n",
            "\u001b[2K     \u001b[90m━━━━━━━━━━━━━━━━━━━━━━━━━━━━━━━━━━━━━━━\u001b[0m \u001b[32m400.7/400.7 MB\u001b[0m \u001b[31m4.0 MB/s\u001b[0m eta \u001b[36m0:00:00\u001b[0m\n",
            "\u001b[?25hInstalling collected packages: en-core-web-lg\n",
            "Successfully installed en-core-web-lg-3.8.0\n",
            "\u001b[38;5;2m✔ Download and installation successful\u001b[0m\n",
            "You can now load the package via spacy.load('en_core_web_lg')\n",
            "\u001b[38;5;3m⚠ Restart to reload dependencies\u001b[0m\n",
            "If you are in a Jupyter or Colab notebook, you may need to restart Python in\n",
            "order to load all the package's dependencies. You can do this by selecting the\n",
            "'Restart kernel' or 'Restart runtime' option.\n"
          ]
        }
      ]
    },
    {
      "cell_type": "code",
      "source": [
        "import spacy\n",
        "nlp = spacy.load(\"en_core_web_lg\")"
      ],
      "metadata": {
        "id": "Z8ODNapRvrMZ"
      },
      "execution_count": 14,
      "outputs": []
    },
    {
      "cell_type": "code",
      "source": [
        "def preprocess_vectorize(text):\n",
        "  doc = nlp(text)\n",
        "\n",
        "  filtered_tokens = []\n",
        "  for token in doc:\n",
        "    if token.is_stop or token.is_punct:\n",
        "      continue\n",
        "    filtered_tokens.append(token.lemma_)\n",
        "\n",
        "  # filtered_tokens = \" \".join(filtered_tokens)\n",
        "  # vector = wv[filtered_tokens]\n",
        "\n",
        "  return wv.get_mean_vector(filtered_tokens)"
      ],
      "metadata": {
        "id": "S6CfUzSDwByx"
      },
      "execution_count": 28,
      "outputs": []
    },
    {
      "cell_type": "code",
      "source": [
        "preprocess_vectorize(\"Don't worry if you don't understand\")"
      ],
      "metadata": {
        "id": "0M-JCW5vxchX"
      },
      "execution_count": null,
      "outputs": []
    },
    {
      "cell_type": "code",
      "source": [
        "preprocess_vectorize(\"Don't worry if you don't understand\").shape"
      ],
      "metadata": {
        "colab": {
          "base_uri": "https://localhost:8080/"
        },
        "id": "Alu8pHmh0Vwv",
        "outputId": "52e3f00d-763f-4c70-e94c-47df6802a78a"
      },
      "execution_count": 30,
      "outputs": [
        {
          "output_type": "execute_result",
          "data": {
            "text/plain": [
              "(300,)"
            ]
          },
          "metadata": {},
          "execution_count": 30
        }
      ]
    },
    {
      "cell_type": "code",
      "source": [
        "v1 = wv[\"worry\"]\n",
        "v2 = wv[\"understand\"]\n",
        "\n",
        "import numpy as np\n",
        "np.mean([v1, v2], axis=0)[:3]"
      ],
      "metadata": {
        "colab": {
          "base_uri": "https://localhost:8080/"
        },
        "id": "lmDtOzeOx7BL",
        "outputId": "db0b7c67-3aa2-4760-89d3-48bf8439bb23"
      },
      "execution_count": 24,
      "outputs": [
        {
          "output_type": "execute_result",
          "data": {
            "text/plain": [
              "array([ 0.00976562, -0.00561523, -0.08905029], dtype=float32)"
            ]
          },
          "metadata": {},
          "execution_count": 24
        }
      ]
    },
    {
      "cell_type": "code",
      "source": [
        "wv.get_mean_vector(preprocess_vectorize(\"Don't worry if you don't understand\"), pre_normalize=False)[:3]"
      ],
      "metadata": {
        "colab": {
          "base_uri": "https://localhost:8080/"
        },
        "id": "ZKfu_N4jzpmC",
        "outputId": "538f1693-11c5-45b3-fcbd-0bbaf9dc4f06"
      },
      "execution_count": 26,
      "outputs": [
        {
          "output_type": "execute_result",
          "data": {
            "text/plain": [
              "array([ 0.00976562, -0.00561523, -0.08905029], dtype=float32)"
            ]
          },
          "metadata": {},
          "execution_count": 26
        }
      ]
    },
    {
      "cell_type": "code",
      "source": [
        "df[\"vector\"] = df.Text.apply(lambda text: preprocess_vectorize(text))"
      ],
      "metadata": {
        "id": "Nt8-996fzytp"
      },
      "execution_count": 31,
      "outputs": []
    },
    {
      "cell_type": "code",
      "source": [
        "df.head()"
      ],
      "metadata": {
        "colab": {
          "base_uri": "https://localhost:8080/",
          "height": 206
        },
        "id": "UhHS1GJT_ZVd",
        "outputId": "210c1959-ce2f-47a0-9d29-cadd2d49267a"
      },
      "execution_count": 32,
      "outputs": [
        {
          "output_type": "execute_result",
          "data": {
            "text/plain": [
              "                                                Text label  label_num  \\\n",
              "0   Top Trump Surrogate BRUTALLY Stabs Him In The...  Fake          0   \n",
              "1  U.S. conservative leader optimistic of common ...  Real          1   \n",
              "2  Trump proposes U.S. tax overhaul, stirs concer...  Real          1   \n",
              "3   Court Forces Ohio To Allow Millions Of Illega...  Fake          0   \n",
              "4  Democrats say Trump agrees to work on immigrat...  Real          1   \n",
              "\n",
              "                                              vector  \n",
              "0  [0.0085234195, 0.019263458, -0.010577418, 0.03...  \n",
              "1  [0.00861828, 0.007408227, 0.0007675802, 0.0138...  \n",
              "2  [0.01793007, 0.006029178, -0.0054984074, 0.038...  \n",
              "3  [0.0124946935, 0.0121258395, -0.00019833064, 0...  \n",
              "4  [-0.002259819, 0.01164962, 0.0036556108, 0.028...  "
            ],
            "text/html": [
              "\n",
              "  <div id=\"df-ad1a7991-2c89-44e7-8dea-250687ff5386\" class=\"colab-df-container\">\n",
              "    <div>\n",
              "<style scoped>\n",
              "    .dataframe tbody tr th:only-of-type {\n",
              "        vertical-align: middle;\n",
              "    }\n",
              "\n",
              "    .dataframe tbody tr th {\n",
              "        vertical-align: top;\n",
              "    }\n",
              "\n",
              "    .dataframe thead th {\n",
              "        text-align: right;\n",
              "    }\n",
              "</style>\n",
              "<table border=\"1\" class=\"dataframe\">\n",
              "  <thead>\n",
              "    <tr style=\"text-align: right;\">\n",
              "      <th></th>\n",
              "      <th>Text</th>\n",
              "      <th>label</th>\n",
              "      <th>label_num</th>\n",
              "      <th>vector</th>\n",
              "    </tr>\n",
              "  </thead>\n",
              "  <tbody>\n",
              "    <tr>\n",
              "      <th>0</th>\n",
              "      <td>Top Trump Surrogate BRUTALLY Stabs Him In The...</td>\n",
              "      <td>Fake</td>\n",
              "      <td>0</td>\n",
              "      <td>[0.0085234195, 0.019263458, -0.010577418, 0.03...</td>\n",
              "    </tr>\n",
              "    <tr>\n",
              "      <th>1</th>\n",
              "      <td>U.S. conservative leader optimistic of common ...</td>\n",
              "      <td>Real</td>\n",
              "      <td>1</td>\n",
              "      <td>[0.00861828, 0.007408227, 0.0007675802, 0.0138...</td>\n",
              "    </tr>\n",
              "    <tr>\n",
              "      <th>2</th>\n",
              "      <td>Trump proposes U.S. tax overhaul, stirs concer...</td>\n",
              "      <td>Real</td>\n",
              "      <td>1</td>\n",
              "      <td>[0.01793007, 0.006029178, -0.0054984074, 0.038...</td>\n",
              "    </tr>\n",
              "    <tr>\n",
              "      <th>3</th>\n",
              "      <td>Court Forces Ohio To Allow Millions Of Illega...</td>\n",
              "      <td>Fake</td>\n",
              "      <td>0</td>\n",
              "      <td>[0.0124946935, 0.0121258395, -0.00019833064, 0...</td>\n",
              "    </tr>\n",
              "    <tr>\n",
              "      <th>4</th>\n",
              "      <td>Democrats say Trump agrees to work on immigrat...</td>\n",
              "      <td>Real</td>\n",
              "      <td>1</td>\n",
              "      <td>[-0.002259819, 0.01164962, 0.0036556108, 0.028...</td>\n",
              "    </tr>\n",
              "  </tbody>\n",
              "</table>\n",
              "</div>\n",
              "    <div class=\"colab-df-buttons\">\n",
              "\n",
              "  <div class=\"colab-df-container\">\n",
              "    <button class=\"colab-df-convert\" onclick=\"convertToInteractive('df-ad1a7991-2c89-44e7-8dea-250687ff5386')\"\n",
              "            title=\"Convert this dataframe to an interactive table.\"\n",
              "            style=\"display:none;\">\n",
              "\n",
              "  <svg xmlns=\"http://www.w3.org/2000/svg\" height=\"24px\" viewBox=\"0 -960 960 960\">\n",
              "    <path d=\"M120-120v-720h720v720H120Zm60-500h600v-160H180v160Zm220 220h160v-160H400v160Zm0 220h160v-160H400v160ZM180-400h160v-160H180v160Zm440 0h160v-160H620v160ZM180-180h160v-160H180v160Zm440 0h160v-160H620v160Z\"/>\n",
              "  </svg>\n",
              "    </button>\n",
              "\n",
              "  <style>\n",
              "    .colab-df-container {\n",
              "      display:flex;\n",
              "      gap: 12px;\n",
              "    }\n",
              "\n",
              "    .colab-df-convert {\n",
              "      background-color: #E8F0FE;\n",
              "      border: none;\n",
              "      border-radius: 50%;\n",
              "      cursor: pointer;\n",
              "      display: none;\n",
              "      fill: #1967D2;\n",
              "      height: 32px;\n",
              "      padding: 0 0 0 0;\n",
              "      width: 32px;\n",
              "    }\n",
              "\n",
              "    .colab-df-convert:hover {\n",
              "      background-color: #E2EBFA;\n",
              "      box-shadow: 0px 1px 2px rgba(60, 64, 67, 0.3), 0px 1px 3px 1px rgba(60, 64, 67, 0.15);\n",
              "      fill: #174EA6;\n",
              "    }\n",
              "\n",
              "    .colab-df-buttons div {\n",
              "      margin-bottom: 4px;\n",
              "    }\n",
              "\n",
              "    [theme=dark] .colab-df-convert {\n",
              "      background-color: #3B4455;\n",
              "      fill: #D2E3FC;\n",
              "    }\n",
              "\n",
              "    [theme=dark] .colab-df-convert:hover {\n",
              "      background-color: #434B5C;\n",
              "      box-shadow: 0px 1px 3px 1px rgba(0, 0, 0, 0.15);\n",
              "      filter: drop-shadow(0px 1px 2px rgba(0, 0, 0, 0.3));\n",
              "      fill: #FFFFFF;\n",
              "    }\n",
              "  </style>\n",
              "\n",
              "    <script>\n",
              "      const buttonEl =\n",
              "        document.querySelector('#df-ad1a7991-2c89-44e7-8dea-250687ff5386 button.colab-df-convert');\n",
              "      buttonEl.style.display =\n",
              "        google.colab.kernel.accessAllowed ? 'block' : 'none';\n",
              "\n",
              "      async function convertToInteractive(key) {\n",
              "        const element = document.querySelector('#df-ad1a7991-2c89-44e7-8dea-250687ff5386');\n",
              "        const dataTable =\n",
              "          await google.colab.kernel.invokeFunction('convertToInteractive',\n",
              "                                                    [key], {});\n",
              "        if (!dataTable) return;\n",
              "\n",
              "        const docLinkHtml = 'Like what you see? Visit the ' +\n",
              "          '<a target=\"_blank\" href=https://colab.research.google.com/notebooks/data_table.ipynb>data table notebook</a>'\n",
              "          + ' to learn more about interactive tables.';\n",
              "        element.innerHTML = '';\n",
              "        dataTable['output_type'] = 'display_data';\n",
              "        await google.colab.output.renderOutput(dataTable, element);\n",
              "        const docLink = document.createElement('div');\n",
              "        docLink.innerHTML = docLinkHtml;\n",
              "        element.appendChild(docLink);\n",
              "      }\n",
              "    </script>\n",
              "  </div>\n",
              "\n",
              "\n",
              "    <div id=\"df-ebf2703f-38b4-424f-929e-c6c54d5407e7\">\n",
              "      <button class=\"colab-df-quickchart\" onclick=\"quickchart('df-ebf2703f-38b4-424f-929e-c6c54d5407e7')\"\n",
              "                title=\"Suggest charts\"\n",
              "                style=\"display:none;\">\n",
              "\n",
              "<svg xmlns=\"http://www.w3.org/2000/svg\" height=\"24px\"viewBox=\"0 0 24 24\"\n",
              "     width=\"24px\">\n",
              "    <g>\n",
              "        <path d=\"M19 3H5c-1.1 0-2 .9-2 2v14c0 1.1.9 2 2 2h14c1.1 0 2-.9 2-2V5c0-1.1-.9-2-2-2zM9 17H7v-7h2v7zm4 0h-2V7h2v10zm4 0h-2v-4h2v4z\"/>\n",
              "    </g>\n",
              "</svg>\n",
              "      </button>\n",
              "\n",
              "<style>\n",
              "  .colab-df-quickchart {\n",
              "      --bg-color: #E8F0FE;\n",
              "      --fill-color: #1967D2;\n",
              "      --hover-bg-color: #E2EBFA;\n",
              "      --hover-fill-color: #174EA6;\n",
              "      --disabled-fill-color: #AAA;\n",
              "      --disabled-bg-color: #DDD;\n",
              "  }\n",
              "\n",
              "  [theme=dark] .colab-df-quickchart {\n",
              "      --bg-color: #3B4455;\n",
              "      --fill-color: #D2E3FC;\n",
              "      --hover-bg-color: #434B5C;\n",
              "      --hover-fill-color: #FFFFFF;\n",
              "      --disabled-bg-color: #3B4455;\n",
              "      --disabled-fill-color: #666;\n",
              "  }\n",
              "\n",
              "  .colab-df-quickchart {\n",
              "    background-color: var(--bg-color);\n",
              "    border: none;\n",
              "    border-radius: 50%;\n",
              "    cursor: pointer;\n",
              "    display: none;\n",
              "    fill: var(--fill-color);\n",
              "    height: 32px;\n",
              "    padding: 0;\n",
              "    width: 32px;\n",
              "  }\n",
              "\n",
              "  .colab-df-quickchart:hover {\n",
              "    background-color: var(--hover-bg-color);\n",
              "    box-shadow: 0 1px 2px rgba(60, 64, 67, 0.3), 0 1px 3px 1px rgba(60, 64, 67, 0.15);\n",
              "    fill: var(--button-hover-fill-color);\n",
              "  }\n",
              "\n",
              "  .colab-df-quickchart-complete:disabled,\n",
              "  .colab-df-quickchart-complete:disabled:hover {\n",
              "    background-color: var(--disabled-bg-color);\n",
              "    fill: var(--disabled-fill-color);\n",
              "    box-shadow: none;\n",
              "  }\n",
              "\n",
              "  .colab-df-spinner {\n",
              "    border: 2px solid var(--fill-color);\n",
              "    border-color: transparent;\n",
              "    border-bottom-color: var(--fill-color);\n",
              "    animation:\n",
              "      spin 1s steps(1) infinite;\n",
              "  }\n",
              "\n",
              "  @keyframes spin {\n",
              "    0% {\n",
              "      border-color: transparent;\n",
              "      border-bottom-color: var(--fill-color);\n",
              "      border-left-color: var(--fill-color);\n",
              "    }\n",
              "    20% {\n",
              "      border-color: transparent;\n",
              "      border-left-color: var(--fill-color);\n",
              "      border-top-color: var(--fill-color);\n",
              "    }\n",
              "    30% {\n",
              "      border-color: transparent;\n",
              "      border-left-color: var(--fill-color);\n",
              "      border-top-color: var(--fill-color);\n",
              "      border-right-color: var(--fill-color);\n",
              "    }\n",
              "    40% {\n",
              "      border-color: transparent;\n",
              "      border-right-color: var(--fill-color);\n",
              "      border-top-color: var(--fill-color);\n",
              "    }\n",
              "    60% {\n",
              "      border-color: transparent;\n",
              "      border-right-color: var(--fill-color);\n",
              "    }\n",
              "    80% {\n",
              "      border-color: transparent;\n",
              "      border-right-color: var(--fill-color);\n",
              "      border-bottom-color: var(--fill-color);\n",
              "    }\n",
              "    90% {\n",
              "      border-color: transparent;\n",
              "      border-bottom-color: var(--fill-color);\n",
              "    }\n",
              "  }\n",
              "</style>\n",
              "\n",
              "      <script>\n",
              "        async function quickchart(key) {\n",
              "          const quickchartButtonEl =\n",
              "            document.querySelector('#' + key + ' button');\n",
              "          quickchartButtonEl.disabled = true;  // To prevent multiple clicks.\n",
              "          quickchartButtonEl.classList.add('colab-df-spinner');\n",
              "          try {\n",
              "            const charts = await google.colab.kernel.invokeFunction(\n",
              "                'suggestCharts', [key], {});\n",
              "          } catch (error) {\n",
              "            console.error('Error during call to suggestCharts:', error);\n",
              "          }\n",
              "          quickchartButtonEl.classList.remove('colab-df-spinner');\n",
              "          quickchartButtonEl.classList.add('colab-df-quickchart-complete');\n",
              "        }\n",
              "        (() => {\n",
              "          let quickchartButtonEl =\n",
              "            document.querySelector('#df-ebf2703f-38b4-424f-929e-c6c54d5407e7 button');\n",
              "          quickchartButtonEl.style.display =\n",
              "            google.colab.kernel.accessAllowed ? 'block' : 'none';\n",
              "        })();\n",
              "      </script>\n",
              "    </div>\n",
              "\n",
              "    </div>\n",
              "  </div>\n"
            ],
            "application/vnd.google.colaboratory.intrinsic+json": {
              "type": "dataframe",
              "variable_name": "df",
              "summary": "{\n  \"name\": \"df\",\n  \"rows\": 9900,\n  \"fields\": [\n    {\n      \"column\": \"Text\",\n      \"properties\": {\n        \"dtype\": \"string\",\n        \"num_unique_values\": 9865,\n        \"samples\": [\n          \" ICYMI: SNL Skewers \\u201cMorning Joe\\u201d And It Is Hilarious This week s cold open for Saturday Night Live featured a parody of the morning show, Morning Joe. The sketch featured Alex Moffat as host Joe Scarborough and Kate McKinnon as Mika Mika Brzezinski. The sketch also has Alec Baldwin as President Donald Trump, who calls into the show as  John Miller,  a spokesperson for the White House. Back in the day, Trump was known for calling reporters all over the New York area pretending to be his own publicist. He would call, not to tout his business successes but to brag about his sex life.The sketch also made fun of the relationship between the hosts. The pair got engaged recently when they were celebrating Mika s 50th birthday. The sketch shows the response from the other panelists on the show, Mark Halperin, Willie Geist and Mike Barnacle, who all have no idea how to respond to Joe and Mika s behavior on the set.Featured image via Frederick M. Brown/Getty Images.\",\n          \" BOMBSHELL: Information Suggests Trump Associates DID Collude With Russia, According To Officials Wednesday was not a good day to be Donald Trump. In the aftermath of the disastrous Comey hearing where it was confirmed that The Donald s team was indeed being investigated   and of Rep. Nunes  decision to skip informing his fellow congressional Russia investigators of perfectly legal  incidental collection  of information about Trump associates and possibly the President* himself and run to The Donald with it instead   Trump has been flailing, attempting to distract from the whole Russia thing as much as possible.That s going to be very hard now, as U.S. officials have now confirmed that the facts suggest that members of his team were indeed working with the enemy. CNN reports:The FBI has information that indicates associates of President Donald Trump communicated with suspected Russian operatives to possibly coordinate the release of information damaging to Hillary Clinton s campaign, US officials told CNN.\",\n          \" Vladimir Putin Just Defended Trump In The WORST Way Possible (VIDEO) According to Russian dictator Vladimir Putin, it s silly to worry about little things like whether or not a couple of Russian ladies peed on Donald Trump s bed because it s much, much worse to publish memos that reveal these allegations.Putin says that there is a conspiracy to  delegitimize  the man and his team of hackers, fake news writers, and trolls he worked hard to install in the Oval Office by hacking Trump s political opponents and running an aggressive propaganda campaign. I don t know Mr. Trump, I have never met him, I don t know what he will do in the international arena, so I have no reason either to attack him, criticize him or defend him, Putin said at a press conference. Donald Trump has been with the most beautiful women in the world, so why would he need prostitutes in Moscow? To answer that question, we need only look to a 2001 edition of the Howard Stern Show in which Trump was reminded that he bragged that he likes to go to Russia to have sex with women because they  have no morals. Putin says that Russian security services  do not chase every US billionaire,  and that the release of the documents was worse than prostitutes. In a way, he s right, as the documents presented to both Trump and President Obama also allege that members of the President-elect s campaign staff directly worked with the Russian government during the campaign.On numerous occasions, Trump has repeated Russian propaganda while attacking U.S. intelligence agencies that have been exposing him for what he is and, of course, has directly quoted Putin (a man whom Trump says is  very smart ) while hurling barbs at Hillary Clinton.Trump and Putin have been screaming about the  fake news  release of actual documents that actual intelligence agencies are in possession of, but the BBC reported recently that the whole pissing Russian ladies thing is just the tip of the iceberg. Correspondent Paul Wood revealed last week that at least four sources have confirmed the information, with one U.S. intelligence source informing him that there is audio and video of The Donald s escapades, and an Israeli news source reports that the country s spies have been warned against sharing information with the United States for fear that Trump will relay it to Putin.Putin and Trump s bromance is disconcerting at best   especially when more than a baker s dozen intelligence agencies have confirmed that the man who stood up to join Trump in his attacks on our intelligence agencies has been confirmed to have interfered in our election.Watch it below:Featured image via Getty Images\"\n        ],\n        \"semantic_type\": \"\",\n        \"description\": \"\"\n      }\n    },\n    {\n      \"column\": \"label\",\n      \"properties\": {\n        \"dtype\": \"category\",\n        \"num_unique_values\": 2,\n        \"samples\": [\n          \"Real\",\n          \"Fake\"\n        ],\n        \"semantic_type\": \"\",\n        \"description\": \"\"\n      }\n    },\n    {\n      \"column\": \"label_num\",\n      \"properties\": {\n        \"dtype\": \"number\",\n        \"std\": 0,\n        \"min\": 0,\n        \"max\": 1,\n        \"num_unique_values\": 2,\n        \"samples\": [\n          1,\n          0\n        ],\n        \"semantic_type\": \"\",\n        \"description\": \"\"\n      }\n    },\n    {\n      \"column\": \"vector\",\n      \"properties\": {\n        \"dtype\": \"object\",\n        \"semantic_type\": \"\",\n        \"description\": \"\"\n      }\n    }\n  ]\n}"
            }
          },
          "metadata": {},
          "execution_count": 32
        }
      ]
    },
    {
      "cell_type": "markdown",
      "source": [
        "Train-Test-Split"
      ],
      "metadata": {
        "id": "RITGB3fK1RfI"
      }
    },
    {
      "cell_type": "code",
      "source": [
        "from re import X\n",
        "from sklearn.model_selection import train_test_split\n",
        "\n",
        "X_train, X_test, y_train, y_test = train_test_split(\n",
        "    df.vector.values,\n",
        "    df.label_num,\n",
        "    test_size=0.2,\n",
        "    random_state=2022,\n",
        "    stratify=df.label_num\n",
        ")"
      ],
      "metadata": {
        "id": "osjm50P-1DzP"
      },
      "execution_count": 34,
      "outputs": []
    },
    {
      "cell_type": "code",
      "source": [
        "X_train[:2]"
      ],
      "metadata": {
        "id": "Dp6eXKdv_m3v"
      },
      "execution_count": null,
      "outputs": []
    },
    {
      "cell_type": "code",
      "source": [
        "print(\"Shape of X_train before reshape: \", X_train.shape)\n",
        "print(\"Shape of X_test before reshape: \", X_test.shape)\n",
        "\n",
        "X_train_2d = np.stack(X_train)\n",
        "X_test_2d = np.stack(X_test)\n",
        "\n",
        "print(\"Shape of X_train after reshape: \", X_train_2d.shape)\n",
        "print(\"Shape of X_test after reshape: \", X_test_2d.shape)"
      ],
      "metadata": {
        "colab": {
          "base_uri": "https://localhost:8080/"
        },
        "id": "PW6_DnD1_tDG",
        "outputId": "26260e97-2bcb-4aa4-98b1-14d2fcafed42"
      },
      "execution_count": 36,
      "outputs": [
        {
          "output_type": "stream",
          "name": "stdout",
          "text": [
            "Shape of X_train before reshape:  (7920,)\n",
            "Shape of X_test before reshape:  (1980,)\n",
            "Shape of X_train after reshape:  (7920, 300)\n",
            "Shape of X_test after reshape:  (1980, 300)\n"
          ]
        }
      ]
    },
    {
      "cell_type": "code",
      "source": [
        "X_train_2d[:2]"
      ],
      "metadata": {
        "colab": {
          "base_uri": "https://localhost:8080/"
        },
        "id": "0BpOx7YCAE49",
        "outputId": "e9a77d54-6b8f-499e-f4ee-3ba314112bf8"
      },
      "execution_count": 39,
      "outputs": [
        {
          "output_type": "execute_result",
          "data": {
            "text/plain": [
              "array([[-2.81406008e-03,  6.87619392e-03,  3.39423376e-03,\n",
              "         3.95360738e-02, -1.36175575e-02, -8.13308824e-03,\n",
              "         3.21084671e-02, -3.23449001e-02,  1.68617796e-02,\n",
              "         2.29651965e-02, -2.43959669e-02, -3.76296826e-02,\n",
              "        -6.46119332e-03,  1.64720993e-02, -2.45438758e-02,\n",
              "         4.68500890e-02,  5.70145063e-03,  2.61194576e-02,\n",
              "         4.22870228e-03, -3.21864001e-02,  4.29314002e-03,\n",
              "         1.92054529e-02,  4.24828455e-02, -2.57277768e-03,\n",
              "         2.06844565e-02,  3.26823303e-03, -2.66888309e-02,\n",
              "        -1.15901825e-03,  6.50059246e-03, -2.36961502e-03,\n",
              "        -1.50975427e-02, -2.89285003e-04, -2.67314240e-02,\n",
              "         4.53402427e-05, -1.12956632e-02, -1.66448709e-02,\n",
              "         1.39644267e-02,  2.36211065e-03, -4.24514618e-03,\n",
              "         3.43926027e-02,  5.00894291e-03, -1.51310461e-02,\n",
              "         4.37048376e-02,  1.11676650e-02, -4.91475128e-03,\n",
              "        -1.57708433e-02, -2.10426785e-02,  9.78141464e-03,\n",
              "        -1.25600677e-02,  3.20965126e-02, -1.25541473e-02,\n",
              "         2.69360971e-02, -4.93882457e-03, -4.56501823e-03,\n",
              "         3.04846140e-03,  7.12802692e-04, -1.12886708e-02,\n",
              "        -2.77648065e-02, -9.02390294e-03, -2.95280982e-02,\n",
              "         6.50116801e-03,  2.94479281e-02, -2.74591725e-02,\n",
              "        -2.39625969e-03,  1.83411203e-02, -1.52410641e-02,\n",
              "        -2.03626510e-02, -7.89964385e-03, -3.73535813e-03,\n",
              "         2.24055871e-02,  1.17877685e-02,  2.74414872e-03,\n",
              "         2.81615034e-02,  2.37366906e-03, -2.27661394e-02,\n",
              "        -2.53748577e-02,  8.30142386e-03,  1.77516434e-02,\n",
              "         2.15477068e-02,  3.04526705e-02, -1.49405524e-02,\n",
              "        -2.02871989e-02,  1.19839879e-02, -6.08834065e-03,\n",
              "        -9.52695962e-03, -2.70266104e-02, -3.27461660e-02,\n",
              "         5.35931140e-02,  8.25163617e-04,  4.56251903e-03,\n",
              "         5.18735033e-03, -1.13955373e-02, -4.48139869e-02,\n",
              "        -2.09904704e-02, -8.62097833e-03, -3.32614407e-02,\n",
              "         1.80786289e-02,  1.64134093e-02,  1.92082003e-02,\n",
              "        -1.61223616e-02, -1.97316147e-02, -2.00225823e-02,\n",
              "         4.20853402e-03,  9.77153308e-04, -1.84037648e-02,\n",
              "        -5.18497871e-03,  8.72567471e-04, -2.89161522e-02,\n",
              "        -3.83642805e-03, -1.79183576e-02, -2.74548400e-02,\n",
              "        -2.30954010e-02,  3.82527336e-03, -4.14851168e-03,\n",
              "         3.15052643e-02, -7.56170461e-03,  2.14046445e-02,\n",
              "        -2.55119409e-02,  2.43885387e-02,  8.91682133e-03,\n",
              "        -2.49527078e-02, -6.10882125e-04, -1.23839406e-02,\n",
              "         3.24645117e-02, -8.97468720e-03, -9.91850533e-03,\n",
              "        -1.86050832e-02, -1.45492647e-02,  2.41681840e-03,\n",
              "         1.18904402e-02, -1.41618270e-02, -1.12716425e-02,\n",
              "        -9.41463187e-03,  2.62480020e-03, -1.20782375e-03,\n",
              "         8.41818983e-04,  4.79184964e-04,  9.87359229e-03,\n",
              "         1.67982578e-02,  2.14349069e-02,  1.77154504e-02,\n",
              "        -3.24810818e-02, -3.43072461e-04, -2.30178069e-02,\n",
              "         7.28481961e-03,  1.90783665e-02, -2.13066931e-03,\n",
              "        -1.92064848e-02, -2.20126733e-02, -9.88989230e-03,\n",
              "         2.89303046e-02,  2.92411936e-03, -1.78368483e-02,\n",
              "         1.00970650e-02, -1.06886234e-02, -2.01922935e-02,\n",
              "        -1.90016460e-02, -1.98672544e-02, -3.13132182e-02,\n",
              "        -1.98866450e-03, -9.71984398e-03,  1.42946132e-02,\n",
              "         2.46612430e-02,  2.56639416e-03,  3.53980879e-03,\n",
              "        -3.68783213e-02,  3.32297496e-02, -2.84712203e-02,\n",
              "         1.62970591e-02,  1.39201796e-02, -4.63920645e-02,\n",
              "        -1.50809446e-02,  3.83647718e-03, -3.72347571e-02,\n",
              "        -2.29465738e-02,  1.30805443e-03,  4.85730059e-02,\n",
              "        -1.08654657e-02, -1.86551567e-02,  1.55943714e-03,\n",
              "        -3.83525193e-02, -3.26573290e-02,  1.45275088e-03,\n",
              "         1.18240749e-03,  6.53813500e-03, -2.12852359e-02,\n",
              "         2.62862025e-03,  7.17642019e-03,  8.29847436e-03,\n",
              "         1.24647506e-02,  1.41588040e-02,  1.02527402e-02,\n",
              "         1.43584237e-02, -3.72938765e-03, -1.52739836e-02,\n",
              "         2.04178654e-02, -2.90419627e-03, -1.52552435e-02,\n",
              "        -1.09339766e-02, -3.68830115e-02, -4.95131593e-03,\n",
              "         1.85252000e-02, -3.40973251e-02, -1.67336911e-02,\n",
              "         5.47105679e-03, -8.48021545e-03, -1.14300894e-02,\n",
              "         2.83112773e-03, -1.21721672e-02, -1.41266473e-02,\n",
              "        -1.88864730e-02,  2.46806126e-02, -1.28772557e-02,\n",
              "         1.60532445e-02, -2.16912143e-02,  1.21367984e-02,\n",
              "         2.01988462e-02,  9.79538076e-03, -1.60866473e-02,\n",
              "        -6.09609485e-03, -2.17779540e-03,  6.79562008e-03,\n",
              "        -7.50076678e-03, -1.16815849e-03,  1.76545307e-02,\n",
              "        -1.70544945e-02,  2.43063644e-02,  1.60499904e-02,\n",
              "         1.71913411e-02, -1.37621397e-03,  3.91767221e-03,\n",
              "        -2.68593784e-02, -1.97115988e-02,  8.85599758e-03,\n",
              "         3.24454866e-02, -1.03777833e-02,  3.97590687e-03,\n",
              "        -1.49829937e-02,  2.12797672e-02, -5.10521047e-03,\n",
              "         2.29971893e-02, -1.62068345e-02, -5.80431707e-03,\n",
              "        -2.29442082e-02,  8.73795152e-03,  1.63131412e-02,\n",
              "        -3.39952006e-04,  2.02359855e-02, -5.55884908e-04,\n",
              "        -1.92645900e-02, -7.08619086e-03,  5.52073866e-03,\n",
              "         3.01583037e-02,  1.59794614e-02,  1.72893181e-02,\n",
              "        -2.38469392e-02,  8.08280252e-04, -4.55226749e-03,\n",
              "        -2.46009901e-02, -2.33786311e-02, -1.01810824e-02,\n",
              "         8.47345311e-03, -3.22429016e-02,  1.53548736e-02,\n",
              "         1.58010684e-02,  2.75683552e-02, -2.85125729e-02,\n",
              "         1.69519894e-03, -3.12513299e-02, -1.28291715e-02,\n",
              "         2.52712681e-03,  4.95385379e-02,  3.69691849e-02,\n",
              "        -1.08548743e-03,  2.37245318e-02, -1.60889234e-02,\n",
              "        -7.41368253e-03, -3.38954292e-02, -2.02527326e-02,\n",
              "        -5.60389366e-03,  6.58039143e-03, -6.69798674e-03,\n",
              "         7.37744244e-03,  2.16982849e-02, -7.61008821e-03,\n",
              "        -1.18815862e-02, -4.07491550e-02,  1.89214926e-02,\n",
              "        -1.10899215e-03,  1.52118728e-02, -1.41772889e-02,\n",
              "         1.72339485e-03, -3.16459015e-02,  6.08099764e-03,\n",
              "        -4.01739776e-03, -3.17804776e-02, -1.58044603e-03,\n",
              "        -1.28854318e-02,  7.18124816e-03, -7.76810944e-03],\n",
              "       [ 7.40770809e-03,  3.33923940e-03, -1.73194408e-02,\n",
              "         2.53530741e-02, -2.37447582e-02, -1.07460283e-02,\n",
              "         1.29910680e-02, -2.03855727e-02,  3.27965356e-02,\n",
              "         3.37703200e-03, -1.71258524e-02, -2.34663226e-02,\n",
              "        -6.91226218e-03,  1.70093365e-02, -4.58564907e-02,\n",
              "         2.82412991e-02,  2.63021253e-02,  3.46590541e-02,\n",
              "        -4.07156767e-03, -3.44276279e-02, -3.42047075e-04,\n",
              "         3.52422930e-02,  2.20255144e-02, -6.59729529e-04,\n",
              "         7.13739824e-03, -2.47586519e-03, -1.77565403e-02,\n",
              "         5.20685874e-03,  8.93999822e-03, -2.22013192e-03,\n",
              "        -7.62191415e-03,  1.68703292e-02, -3.45864631e-02,\n",
              "        -8.02864600e-03,  1.45929074e-02, -9.11107101e-03,\n",
              "         2.88324524e-02,  1.17147379e-02,  1.39491213e-02,\n",
              "         2.16588117e-02,  2.12183632e-02, -1.30857956e-02,\n",
              "         3.32901552e-02,  9.27242171e-03, -2.78313681e-02,\n",
              "        -1.35816522e-02, -1.28395734e-02, -5.37800649e-03,\n",
              "         8.85647431e-04,  3.25843841e-02, -6.20608358e-03,\n",
              "         2.27205120e-02, -9.61042847e-03, -5.81535860e-04,\n",
              "         2.19325684e-02,  9.78994556e-03, -1.80998873e-02,\n",
              "        -2.42020711e-02, -5.14324522e-03, -4.56950814e-02,\n",
              "         1.28568700e-02,  1.42180808e-02, -3.39175165e-02,\n",
              "        -1.53366094e-02,  1.54980016e-03, -1.41854910e-02,\n",
              "        -2.95926649e-02,  2.89687812e-02, -8.95852037e-03,\n",
              "         2.18854249e-02,  1.39053846e-02, -1.58508599e-03,\n",
              "         3.28027457e-02, -3.04429187e-03, -3.69911119e-02,\n",
              "        -1.04003204e-02,  2.61141751e-02,  1.73985437e-02,\n",
              "         2.18722913e-02,  3.45286839e-02, -8.97067040e-03,\n",
              "        -1.95447262e-02,  1.31847644e-02, -1.82239898e-03,\n",
              "        -1.84202450e-03, -1.93341207e-02, -4.05486077e-02,\n",
              "         4.51151505e-02,  1.31048716e-03, -4.78901900e-03,\n",
              "         4.20700107e-03, -2.38683377e-03, -3.00517976e-02,\n",
              "        -3.03613469e-02, -2.81354343e-03, -2.68214177e-02,\n",
              "         2.28190776e-02,  2.83540785e-02,  7.55739119e-03,\n",
              "        -2.06860323e-02, -2.74912324e-02, -8.15575197e-03,\n",
              "        -1.22189836e-03,  1.08552147e-02, -4.35275072e-03,\n",
              "        -1.19585209e-02,  9.85424221e-03, -3.19378413e-02,\n",
              "        -1.96800032e-03, -2.03108452e-02, -2.58716904e-02,\n",
              "        -8.89696926e-03,  2.37963359e-05, -5.34519320e-03,\n",
              "         3.19992118e-02, -1.57634390e-03,  1.72153525e-02,\n",
              "        -1.67592391e-02,  3.08105648e-02,  4.55284212e-03,\n",
              "        -1.52876992e-02, -2.18186853e-03, -2.34768614e-02,\n",
              "         2.41555795e-02,  3.93224834e-03, -1.64645985e-02,\n",
              "        -2.60510854e-02, -1.52860824e-02,  5.28882258e-03,\n",
              "        -5.14480053e-03, -8.55617784e-03, -4.89408970e-02,\n",
              "         3.74538405e-03,  1.84434035e-03, -7.79365562e-03,\n",
              "        -1.76400132e-02,  9.64865088e-04,  2.06218269e-02,\n",
              "         1.34225411e-03,  1.62653606e-02,  2.96830144e-02,\n",
              "        -2.05867328e-02, -3.95791791e-03, -3.80635262e-03,\n",
              "         7.56128598e-03,  1.01033328e-02,  3.19248764e-03,\n",
              "        -2.47700270e-02, -1.55257639e-02, -8.18008184e-03,\n",
              "         3.39406542e-02,  9.33035649e-03,  3.02683003e-03,\n",
              "         5.33158099e-03, -1.21403318e-02, -3.70871578e-03,\n",
              "        -1.30989756e-02, -1.38183162e-02, -2.27377191e-02,\n",
              "        -1.73253380e-02, -2.12530908e-03,  1.89162623e-02,\n",
              "         2.10062917e-02,  2.52567586e-02,  9.34328325e-03,\n",
              "        -5.02124429e-02,  2.07045637e-02, -2.84047015e-02,\n",
              "         1.69682410e-02,  9.29086935e-03, -2.50798203e-02,\n",
              "        -7.83641730e-03,  1.01368511e-02, -3.90995517e-02,\n",
              "        -8.31469335e-03, -8.52897589e-04,  4.01955657e-02,\n",
              "        -2.84411218e-02, -2.08064280e-02,  3.72399250e-03,\n",
              "        -3.27222571e-02, -1.66668799e-02,  1.40997926e-02,\n",
              "         6.73040887e-03, -7.87294377e-03, -1.35806259e-02,\n",
              "        -1.10383267e-02, -2.11766735e-03,  2.24671103e-02,\n",
              "         1.97470225e-02,  1.23400223e-02,  1.46585135e-02,\n",
              "         2.72828750e-02,  8.05260241e-03, -9.57874488e-03,\n",
              "         3.02614266e-04,  5.49695361e-03, -3.64365312e-03,\n",
              "        -1.08457319e-02, -2.30764765e-02,  1.30677689e-02,\n",
              "         1.12738591e-02, -1.63962822e-02, -4.68082819e-03,\n",
              "         1.48440311e-02, -9.88891535e-03, -2.97133997e-03,\n",
              "         1.35230403e-02, -4.88524558e-03,  5.23656607e-03,\n",
              "        -4.42736689e-03,  2.58067958e-02, -8.79861764e-04,\n",
              "         1.10679567e-02, -2.56516617e-02,  1.06893232e-04,\n",
              "         1.82125606e-02,  2.51619145e-04, -2.59041525e-02,\n",
              "        -2.17503756e-02, -1.81317106e-02,  9.78467707e-03,\n",
              "        -5.58732729e-03, -1.99708831e-03,  2.74614878e-02,\n",
              "         9.34121897e-04,  1.68634355e-02,  1.08017530e-02,\n",
              "         1.04105016e-02,  2.26277020e-03, -2.32429265e-05,\n",
              "        -8.59588850e-03, -1.94689855e-02,  3.73099791e-03,\n",
              "         4.08301465e-02, -9.95785347e-04,  1.17893703e-02,\n",
              "        -3.29446271e-02,  3.39075550e-02,  6.55072555e-03,\n",
              "         6.20489754e-03, -1.63837597e-02,  2.23546359e-03,\n",
              "        -3.61882634e-02,  3.27572547e-04,  1.55908186e-02,\n",
              "         1.46247481e-03,  4.43246067e-02,  1.09531740e-02,\n",
              "        -2.01211665e-02,  6.02009241e-03,  2.51155980e-02,\n",
              "         1.34773413e-02,  2.11448576e-02,  2.13028025e-02,\n",
              "        -7.45790033e-03,  1.53126400e-02,  1.27510997e-02,\n",
              "        -1.37436874e-02, -2.88591441e-02, -5.39842993e-03,\n",
              "         4.52797720e-03, -8.85578152e-03,  7.61500234e-03,\n",
              "         7.66266137e-03,  4.02905867e-02, -1.86448954e-02,\n",
              "        -4.12004476e-04, -2.11167708e-02, -8.67793802e-03,\n",
              "         9.61105712e-03,  2.68638451e-02,  4.19969708e-02,\n",
              "         1.65776443e-02,  2.38241851e-02, -1.23469876e-02,\n",
              "        -1.63119435e-02, -3.69703658e-02, -1.91582479e-02,\n",
              "        -6.73787901e-03, -1.08735741e-03,  5.45803644e-03,\n",
              "         1.38294306e-02,  2.11893432e-02, -5.69478609e-03,\n",
              "        -4.97774221e-03, -1.83414072e-02,  2.00194912e-03,\n",
              "         1.95320938e-02,  1.52523136e-02, -6.01635454e-03,\n",
              "         1.42518980e-02, -2.86802091e-02, -1.00654736e-02,\n",
              "        -1.67143566e-03, -1.88926309e-02,  1.43197663e-02,\n",
              "        -3.39312181e-02,  1.32617252e-02,  2.80478201e-03]], dtype=float32)"
            ]
          },
          "metadata": {},
          "execution_count": 39
        }
      ]
    },
    {
      "cell_type": "markdown",
      "source": [
        "Train Machime Learing Model"
      ],
      "metadata": {
        "id": "Uz8BmD_oAdYh"
      }
    },
    {
      "cell_type": "code",
      "source": [
        "from sklearn.ensemble import GradientBoostingClassifier\n",
        "from sklearn.metrics import classification_report\n",
        "\n",
        "clf = GradientBoostingClassifier()\n",
        "clf.fit(X_train_2d, y_train)\n",
        "\n",
        "y_pred = clf.predict(X_test_2d)\n",
        "print(classification_report(y_test, y_pred))"
      ],
      "metadata": {
        "colab": {
          "base_uri": "https://localhost:8080/"
        },
        "id": "Zx7jrjT8AcYG",
        "outputId": "56384a90-db1f-4ac4-9cdc-c15dc2c501f6"
      },
      "execution_count": 40,
      "outputs": [
        {
          "output_type": "stream",
          "name": "stdout",
          "text": [
            "              precision    recall  f1-score   support\n",
            "\n",
            "           0       0.99      0.97      0.98      1000\n",
            "           1       0.97      0.99      0.98       980\n",
            "\n",
            "    accuracy                           0.98      1980\n",
            "   macro avg       0.98      0.98      0.98      1980\n",
            "weighted avg       0.98      0.98      0.98      1980\n",
            "\n"
          ]
        }
      ]
    },
    {
      "cell_type": "markdown",
      "source": [
        "Make Some Prediction"
      ],
      "metadata": {
        "id": "6La8D2UwBGtp"
      }
    },
    {
      "cell_type": "code",
      "source": [
        "test_news = [\n",
        "    \"Michigan governor denies misleading U.S. House on Flint water (Reuters) - Michigan Governor Rick Snyder denied Thursday that he had misled a U.S. House of Representatives committee last year over testimony on Flintâ€™s water crisis after lawmakers asked if his testimony had been contradicted by a witness in a court hearing. The House Oversight and Government Reform Committee wrote Snyder earlier Thursday asking him about published reports that one of his aides, Harvey Hollins, testified in a court hearing last week in Michigan that he had notified Snyder of an outbreak of Legionnairesâ€™ disease linked to the Flint water crisis in December 2015, rather than 2016 as Snyder had testified. â€œMy testimony was truthful and I stand by it,â€ Snyder told the committee in a letter, adding that his office has provided tens of thousands of pages of records to the committee and would continue to cooperate fully.  Last week, prosecutors in Michigan said Dr. Eden Wells, the stateâ€™s chief medical executive who already faced lesser charges, would become the sixth current or former official to face involuntary manslaughter charges in connection with the crisis. The charges stem from more than 80 cases of Legionnairesâ€™ disease and at least 12 deaths that were believed to be linked to the water in Flint after the city switched its source from Lake Huron to the Flint River in April 2014. Wells was among six current and former Michigan and Flint officials charged in June. The other five, including Michigan Health and Human Services Director Nick Lyon, were charged at the time with involuntary manslaughter\",\n",
        "    \" WATCH: Fox News Host Loses Her Sh*t, Says Investigating Russia For Hacking Our Election Is Unpatriotic This woman is insane.In an incredibly disrespectful rant against President Obama and anyone else who supports investigating Russian interference in our election, Fox News host Jeanine Pirro said that anybody who is against Donald Trump is anti-American. Look, it s time to take sides,  she began.\",\n",
        "    \" Sarah Palin Celebrates After White Man Who Pulled Gun On Black Protesters Goes Unpunished (VIDEO) Sarah Palin, one of the nigh-innumerable  deplorables  in Donald Trump s  basket,  almost outdid herself in terms of horribleness on Friday.\"\n",
        "]\n",
        "\n",
        "test_news_vectors = [preprocess_vectorize(text) for text in test_news]\n",
        "# test_news_vector = np.stack(test_news_vectors)\n",
        "clf.predict(test_news_vectors)"
      ],
      "metadata": {
        "colab": {
          "base_uri": "https://localhost:8080/"
        },
        "id": "QUTYSNQjAMnV",
        "outputId": "cc4b18a1-bded-470a-a732-27ae9bb01344"
      },
      "execution_count": 41,
      "outputs": [
        {
          "output_type": "execute_result",
          "data": {
            "text/plain": [
              "array([1, 0, 0])"
            ]
          },
          "metadata": {},
          "execution_count": 41
        }
      ]
    },
    {
      "cell_type": "markdown",
      "source": [
        "Confusion Matrix for Best Model"
      ],
      "metadata": {
        "id": "ro0szk5GC8Zp"
      }
    },
    {
      "cell_type": "code",
      "source": [
        "from sklearn.metrics import confusion_matrix\n",
        "\n",
        "y_pred = clf.predict(X_test_2d)\n",
        "cm = confusion_matrix(y_test, y_pred)\n",
        "cm\n",
        "\n",
        "from matplotlib import pyplot as plt\n",
        "import seaborn as sns\n",
        "sns.heatmap(cm, annot=True, fmt=\"d\")\n",
        "plt.xlabel(\"Predicted\")\n",
        "plt.ylabel(\"Actual\")\n",
        "plt.title(\"Confusion Matrix\")\n",
        "plt.show()"
      ],
      "metadata": {
        "colab": {
          "base_uri": "https://localhost:8080/",
          "height": 472
        },
        "id": "zlnC-jQ6Cnmx",
        "outputId": "fbc555c7-834b-4f03-85d2-38b927e357db"
      },
      "execution_count": 42,
      "outputs": [
        {
          "output_type": "display_data",
          "data": {
            "text/plain": [
              "<Figure size 640x480 with 2 Axes>"
            ],
            "image/png": "[encoded data removed]"
          },
          "metadata": {}
        }
      ]
    },
    {
      "cell_type": "code",
      "source": [],
      "metadata": {
        "id": "3sfKT_h4DViq"
      },
      "execution_count": null,
      "outputs": []
    }
  ]
}